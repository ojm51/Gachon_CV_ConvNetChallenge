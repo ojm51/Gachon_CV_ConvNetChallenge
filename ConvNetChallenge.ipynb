{
  "nbformat": 4,
  "nbformat_minor": 0,
  "metadata": {
    "colab": {
      "name": "ConvNetChallenge.ipynb",
      "private_outputs": true,
      "provenance": [],
      "collapsed_sections": [],
      "authorship_tag": "ABX9TyNU5ORlbEbUciq5WWes0Wbv",
      "include_colab_link": true
    },
    "kernelspec": {
      "name": "python3",
      "display_name": "Python 3"
    },
    "language_info": {
      "name": "python"
    },
    "accelerator": "GPU"
  },
  "cells": [
    {
      "cell_type": "markdown",
      "metadata": {
        "id": "view-in-github",
        "colab_type": "text"
      },
      "source": [
        "<a href=\"https://colab.research.google.com/github/NaMinsu/Gachon_CV_ConvNetChallenge/blob/main/ConvNetChallenge.ipynb\" target=\"_parent\"><img src=\"https://colab.research.google.com/assets/colab-badge.svg\" alt=\"Open In Colab\"/></a>"
      ]
    },
    {
      "cell_type": "code",
      "execution_count": null,
      "metadata": {
        "id": "aSPBP4_LglVk"
      },
      "outputs": [],
      "source": [
        "from google.colab import drive\n",
        "drive.mount('/content/drive')"
      ]
    },
    {
      "cell_type": "code",
      "source": [
        "import zipfile\n",
        "import os\n",
        "\n",
        "file_name = 'colorization_dataset.zip'\n",
        "zip_path = os.path.join('/content/drive/MyDrive/colab_ds/colorization_dataset.zip')\n",
        "\n",
        "!cp \"{zip_path}\" .\n",
        "!unzip -q '{file_name}'\n",
        "!rm '{file_name}'"
      ],
      "metadata": {
        "id": "QaDTG2DCLk1_"
      },
      "execution_count": null,
      "outputs": []
    },
    {
      "cell_type": "code",
      "source": [
        "file_name = 'dataloader.zip'\n",
        "zip_path = os.path.join('/content/drive/MyDrive/colab_ds/dataloader.zip')\n",
        "\n",
        "!cp \"{zip_path}\" .\n",
        "!unzip -q '{file_name}'\n",
        "!rm '{file_name}'"
      ],
      "metadata": {
        "id": "9qm0ivjKMtBi"
      },
      "execution_count": null,
      "outputs": []
    },
    {
      "cell_type": "code",
      "source": [
        "import sys\n",
        "\n",
        "root_path = './cv_project'\n",
        "train_root = './cv_project/train'\n",
        "val_root = './cv_project/val'\n",
        "\n",
        "sys.path.append('./dataloader')"
      ],
      "metadata": {
        "id": "DUBMJ9EdImaK"
      },
      "execution_count": null,
      "outputs": []
    },
    {
      "cell_type": "code",
      "source": [
        "import numpy as np\n",
        "\n",
        "def tensor2im(input_image, imtype=np.uint8):\n",
        "    if isinstance(input_image, torch.Tensor):\n",
        "        image_tensor = input_image.data\n",
        "    else:\n",
        "        return input_image\n",
        "    image_numpy = image_tensor[0].cpu().float().numpy()\n",
        "    if image_numpy.shape[0] == 1:\n",
        "        image_numpy = np.tile(image_numpy, (3, 1, 1))\n",
        "    image_numpy = np.clip((np.transpose(image_numpy, (1, 2, 0))), 0, 1) * 255.0\n",
        "    return image_numpy.astype(imtype)"
      ],
      "metadata": {
        "id": "Y15ju2HLOwl9"
      },
      "execution_count": null,
      "outputs": []
    },
    {
      "cell_type": "code",
      "source": [
        "import torch\n",
        "import torch.utils.data as u_data\n",
        "import matplotlib.pyplot as plt\n",
        "from torchvision.transforms import Compose, ToTensor, ToPILImage\n",
        "from dataloader.data import dataset as dts\n",
        "from dataloader.data import transform as tf\n",
        "\n",
        "train_dataset = dts.ColorHintDataset(root_path, 256, \"train\")\n",
        "train_dataloader = u_data.DataLoader(train_dataset, batch_size=4, shuffle=True)\n",
        "\n",
        "val_dataset = dts.ColorHintDataset(root_path, 256, \"val\")\n",
        "val_dataloader = u_data.DataLoader(val_dataset, batch_size=4, shuffle=True)\n",
        "\n",
        "print(train_dataset.__len__())\n",
        "print(val_dataset.__len__())\n",
        "print(train_dataloader)\n",
        "print(val_dataloader)"
      ],
      "metadata": {
        "id": "ZsQBXzv9HSNZ"
      },
      "execution_count": null,
      "outputs": []
    }
  ]
}